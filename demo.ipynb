{
 "cells": [
  {
   "cell_type": "markdown",
   "metadata": {},
   "source": [
    "# CDSMOTE"
   ]
  },
  {
   "cell_type": "markdown",
   "metadata": {},
   "source": [
    "## Please reference the following paper:\n",
    "    \n",
    "Elyan E., Moreno-Garcia C.F., Jayne C., CDSMOTE: class decomposition and synthetic minority class oversampling technique for imbalanced-data classification. Neural Comput Appl. 2020. <a href=\"https://doi.org/10.1007/s00521-020-05130-z\">10.1007/s00521-020-05130-z</a>\n",
    "\n",
    "### Bibtex Citation\n",
    "@article{Elyan2020,\n",
    "author = {Elyan, Eyad and Moreno-Garcia, Carlos Francisco and Jayne, Chrisina},\n",
    "doi = {10.1007/s00521-020-05130-z},\n",
    "isbn = {0123456789},\n",
    "issn = {1433-3058},\n",
    "journal = {Neural Computing and Applications},\n",
    "publisher = {Springer London},\n",
    "title = {{CDSMOTE: class decomposition and synthetic minority class oversampling technique for imbalanced-data classification}},\n",
    "url = {https://doi.org/10.1007/s00521-020-05130-z},\n",
    "year = {2020}\n",
    "}\n",
    "\n"
   ]
  },
  {
   "cell_type": "markdown",
   "metadata": {},
   "source": [
    "## Importing the necessary modules"
   ]
  },
  {
   "cell_type": "code",
   "execution_count": 1,
   "metadata": {},
   "outputs": [],
   "source": [
    "import clustData\n",
    "import computeKVs\n",
    "import numpy as np\n",
    "import csv\n",
    "import math\n",
    "import sys\n",
    "import pandas as pd\n",
    "import seaborn as sns\n",
    "import matplotlib.pyplot as plt\n",
    "from imblearn.over_sampling import SMOTE\n",
    "from imblearn.over_sampling import ADASYN\n",
    "\n",
    "from matplotlib import style\n",
    "style.use('dark_background')\n",
    "#sns.set(style=\"whitegrid\")"
   ]
  },
  {
   "cell_type": "markdown",
   "metadata": {},
   "source": [
    "## Input parameters"
   ]
  },
  {
   "cell_type": "code",
   "execution_count": 2,
   "metadata": {},
   "outputs": [],
   "source": [
    "dataset = 'C5' # name of the dataset to use. C1-31 are binary datasets presented in Cleofas-Sanchez et al. 2016\n",
    "classdecomp = 'Kmeans' # 'FCmeans', 'FCmeansOptimised' and 'DBSCAN' also available \n",
    "oversampler = 'SMOTE' #'ADASYN' also available\n",
    "threshold = 10 # if samples in positive class are apart from average by more than this value, apply oversampling (Sec 3.2 paper)\n",
    "\n",
    "k_type = 'fixed' # Indicates how to calculate k values for class decomposition\n",
    "# Choose from:\n",
    "# \"fixed\": The majority class is decomposed using k=n_clusters\n",
    "# \"ir\": The majority class is decomposed using k=ceil(IR). THIS RARELY LEADS TO OVERSAMPLING BEING USED!\n",
    "n_clusters = 2 # used in the \"fixed\" k_type option"
   ]
  },
  {
   "cell_type": "markdown",
   "metadata": {},
   "source": [
    "## Load Dataset"
   ]
  },
  {
   "cell_type": "code",
   "execution_count": 3,
   "metadata": {},
   "outputs": [],
   "source": [
    "## 1. Load dataset\n",
    "with open('data//'+str(dataset)+'.csv', 'r', newline='', encoding='utf-8') as f:\n",
    "    reader = csv.reader(f)\n",
    "    data = []\n",
    "    target = []\n",
    "    for row in reader:\n",
    "        data.append(list(map(float,row[0:len(row)-1])))\n",
    "        target.append(row[-1])\n",
    "del row, reader, f\n",
    "\n",
    "majority_class = max(set(target), key=target.count)\n",
    "minority_class = min(set(target), key=target.count)"
   ]
  },
  {
   "cell_type": "markdown",
   "metadata": {},
   "source": [
    "## Plotting the original dataset"
   ]
  },
  {
   "cell_type": "code",
   "execution_count": 4,
   "metadata": {},
   "outputs": [
    {
     "name": "stdout",
     "output_type": "stream",
     "text": [
      "Dataset: C5\n",
      "      Class  Number of Samples\n",
      "0  negative                634\n",
      "1  positive                212\n",
      "Total samples: 846\n",
      "Imbalance Ratio (IR): 2.990566037735849\n",
      "\n",
      "Showing class distribution bar chart...\n"
     ]
    },
    {
     "data": {
      "image/png": "[encoded data removed]",
      "text/plain": [
       "<Figure size 720x432 with 1 Axes>"
      ]
     },
     "metadata": {
      "needs_background": "dark"
     },
     "output_type": "display_data"
    }
   ],
   "source": [
    "%matplotlib inline\n",
    "## 3. Plot distribution of original dataset\n",
    "print('Dataset: '+str(dataset))\n",
    "histo = [['Class','Number of Samples']]\n",
    "for i, label1 in enumerate(sorted(list(set(target)))):\n",
    "    cont = 0\n",
    "    for j, label2 in enumerate(target):\n",
    "        if label1 == label2:\n",
    "            cont+=1\n",
    "    histo.append([label1,cont])\n",
    "histo.append(['Total Samples', len(target)])\n",
    "## Save the histogram as a .csv file   \n",
    "with open('results/originaldb_classdistribution.csv', 'w', newline='', encoding='utf-8') as csvfile:\n",
    "    filewriter = csv.writer(csvfile, delimiter=',')\n",
    "    for i, hist in enumerate(histo):\n",
    "        filewriter.writerow(hist)\n",
    "## Load as a panda\n",
    "histo_panda = pd.DataFrame.from_records(histo[1:-1], columns=histo[0])\n",
    "print(histo_panda)\n",
    "print('Total samples: '+str(len(target)))\n",
    "## Find IR\n",
    "majority_samples = histo_panda.loc[histo_panda['Class'] == majority_class].reset_index()\n",
    "minority_samples = histo_panda.loc[histo_panda['Class'] == minority_class].reset_index()\n",
    "IR = majority_samples['Number of Samples'][0]/minority_samples['Number of Samples'][0]\n",
    "print('Imbalance Ratio (IR): '+str(IR))\n",
    "## Create a histogram using seaborn\n",
    "\n",
    "sns_plot = sns.barplot(x=\"Class\", y=\"Number of Samples\", data=histo_panda)\n",
    "## Save the image\n",
    "sns_plot.figure.set_size_inches(10, 6)\n",
    "sns_plot.figure.savefig('results/originaldb_barchart'+'.jpg', orientation = 'landscape', dpi = 600)\n",
    "print('\\nShowing class distribution bar chart...')\n",
    "plt.show()"
   ]
  },
  {
   "cell_type": "markdown",
   "metadata": {},
   "source": [
    "## Applying class decomposition"
   ]
  },
  {
   "cell_type": "code",
   "execution_count": 5,
   "metadata": {},
   "outputs": [
    {
     "name": "stdout",
     "output_type": "stream",
     "text": [
      "\n",
      "Class decomposition by applying k-means...\n",
      "Number of clusters for class negative: 2\n",
      "No clustering performed for class positive.\n"
     ]
    }
   ],
   "source": [
    "## 1.  Calculate k vector (for class decomposition)\n",
    "if k_type.lower() == 'fixed':\n",
    "    k = computeKVs.majority(data, target, n_clusters)\n",
    "elif k_type.lower() == 'ir':\n",
    "    ## Calculate the IR between the majority and the minority\n",
    "    n_clusters = math.ceil(IR) \n",
    "    k = computeKVs.majority(data, target, n_clusters)\n",
    "else:\n",
    "    print('Invalid option for k_type')\n",
    "    sys.exit()\n",
    "\n",
    "## 2. Cluster the data\n",
    "if classdecomp.lower()=='kmeans':\n",
    "    target_cd = clustData.Kmeans(data, target, k)\n",
    "elif classdecomp.lower()=='fcmeans':\n",
    "    target_cd = clustData.FCmeans(data, target, k)\n",
    "elif classdecomp.lower()=='fcmeansoptimised':\n",
    "     target_cd = clustData.FCmeansOptimised(data, target, k, max_nclusters = 10)   \n",
    "elif classdecomp.lower()=='dbscan':        \n",
    "     target_cd = clustData.DBSCAN(data, target, k, eps=0.5, min_samples=5)\n",
    "else:\n",
    "    print('Invalid class decomposition algorithm.')\n",
    "    sys.exit()"
   ]
  },
  {
   "cell_type": "markdown",
   "metadata": {},
   "source": [
    "## Plotting the decomposed datasets"
   ]
  },
  {
   "cell_type": "code",
   "execution_count": 6,
   "metadata": {},
   "outputs": [
    {
     "name": "stdout",
     "output_type": "stream",
     "text": [
      "         Class  Number of Samples\n",
      "0  negative_c0                164\n",
      "1  negative_c1                470\n",
      "2  positive_c0                212\n",
      "Total samples: 846\n",
      "Average number of samples per class: 282.0\n",
      "\n",
      "Showing class distribution bar chart...\n"
     ]
    },
    {
     "data": {
      "image/png": "[encoded data removed]",
      "text/plain": [
       "<Figure size 720x432 with 1 Axes>"
      ]
     },
     "metadata": {
      "needs_background": "dark"
     },
     "output_type": "display_data"
    }
   ],
   "source": [
    "histo = [['Class','Number of Samples']]\n",
    "for i, label1 in enumerate(sorted(list(set(target_cd)))):\n",
    "    cont = 0\n",
    "    for j, label2 in enumerate(target_cd):\n",
    "        if label1 == label2:\n",
    "            cont+=1\n",
    "    histo.append([label1,cont])\n",
    "histo.append(['Total Samples', len(target_cd)])\n",
    "## Save the histogram as a .csv file   \n",
    "with open('results/decomposeddb_classdistribution.csv', 'w', newline='', encoding='utf-8') as csvfile:\n",
    "    filewriter = csv.writer(csvfile, delimiter=',')\n",
    "    for i, hist in enumerate(histo):\n",
    "        filewriter.writerow(hist)\n",
    "## Load as a panda\n",
    "histo_panda = pd.DataFrame.from_records(histo[1:-1], columns=histo[0])\n",
    "print(histo_panda)\n",
    "print('Total samples: '+str(len(target_cd)))\n",
    "## Create a histogram using seaborn\n",
    "sns_plot = sns.barplot(x=\"Class\", y=\"Number of Samples\", data=histo_panda)\n",
    "## draw a line depicting the average\n",
    "indexesUnique = list(set(target_cd))\n",
    "indexesUnique.sort()\n",
    "cdclassdist_count = []\n",
    "cdclassdist_names = []\n",
    "for cdclass in indexesUnique:\n",
    "     cdclassdist_count.append(target_cd.count(cdclass))\n",
    "     cdclassdist_names.append(cdclass)\n",
    "average = sum(cdclassdist_count)/len(cdclassdist_count)\n",
    "print('Average number of samples per class:', average)\n",
    "plt.axhline(average, color='red')\n",
    "## Save the image\n",
    "sns_plot.figure.set_size_inches(10, 6)\n",
    "sns_plot.figure.savefig('results/decomposeddb_barchart'+'.jpg', orientation = 'landscape', dpi = 600)\n",
    "print('\\nShowing class distribution bar chart...')\n",
    "plt.show()"
   ]
  },
  {
   "cell_type": "markdown",
   "metadata": {},
   "source": [
    "## Applying oversampling to the minority class w.r.t. the sub-class of the majority class closest to the average (red line). If the minority class is closer to the average than the `threshold`, then this step is skipped."
   ]
  },
  {
   "cell_type": "code",
   "execution_count": 7,
   "metadata": {},
   "outputs": [
    {
     "name": "stdout",
     "output_type": "stream",
     "text": [
      "Oversampling original minority class...\n",
      "         Class  Number of Samples\n",
      "0  negative_c0                164\n",
      "1  negative_c1                470\n",
      "2  positive_c0                470\n",
      "Total samples: 1104\n",
      "New average number of samples per class: 313.3333333333333\n",
      "\n",
      "Showing class distribution bar chart...\n"
     ]
    },
    {
     "data": {
      "image/png": "[encoded data removed]",
      "text/plain": [
       "<Figure size 720x432 with 1 Axes>"
      ]
     },
     "metadata": {
      "needs_background": "dark"
     },
     "output_type": "display_data"
    }
   ],
   "source": [
    "## 1. See if the minority is far from the average (larger than the threshold)\n",
    "flag = 0\n",
    "for i,cdclassdist_name in enumerate(cdclassdist_names):\n",
    "    if minority_class == cdclassdist_name.split('_')[0]:\n",
    "        if abs(average-cdclassdist_count[i])>threshold and average>cdclassdist_count[i]:\n",
    "            flag = 1\n",
    "            newmin = cdclassdist_name\n",
    "if flag ==1:            \n",
    "    print('Oversampling original minority class...')\n",
    "    ## 2. Calculate new majority class (closest to the average and larger than the minority) to use as reference for the oversampling\n",
    "    c = np.inf\n",
    "    newmaj = majority_class + '_c0' # gets picked by default if none other accomplishes\n",
    "    for i,j in enumerate(cdclassdist_count):\n",
    "        if abs(j-average)<c and j>average:\n",
    "            c = abs(j-average)\n",
    "            newmaj = cdclassdist_names[i]\n",
    "    ## 3. Create the dataset that only contains the new majority and minority classes\n",
    "    data_majmin = []\n",
    "    target_majmin = []\n",
    "    for m, label in enumerate(target_cd):\n",
    "        if label == newmaj or label == newmin:\n",
    "            data_majmin.append(data[m])\n",
    "            target_majmin.append(label)\n",
    "    if oversampler.lower() == 'smote':\n",
    "        sm = SMOTE()\n",
    "        data_over, target_over = sm.fit_resample(data_majmin, target_majmin) \n",
    "    elif oversampler.lower() == 'adasyn':\n",
    "        ada = ADASYN()\n",
    "        data_over, target_over = ada.fit_resample(data_majmin, target_majmin)\n",
    "    else:\n",
    "        print('Invalid oversampling algorithm.')\n",
    "        sys.exit() \n",
    "    ## 4. combine this with the remaning classes\n",
    "    data_cdsmote = data_over.copy()\n",
    "    target_cdsmote = target_over.copy()\n",
    "    for m, label in enumerate(target_cd):\n",
    "        if label != newmin and label != newmaj:\n",
    "            data_cdsmote.append(data[m])\n",
    "            target_cdsmote.append(label)\n",
    "    \n",
    "    \n",
    "    ## 5. Plot distribution after smote\n",
    "    histo = [['Class','Number of Samples']]\n",
    "    for i, label1 in enumerate(sorted(list(set(target_cdsmote)))):\n",
    "        cont = 0\n",
    "        for j, label2 in enumerate(target_cdsmote):\n",
    "            if label1 == label2:\n",
    "                cont+=1\n",
    "        histo.append([label1,cont])\n",
    "    histo.append(['Total Samples', len(target_cdsmote)])\n",
    "    ## Save the histogram as a .csv file   \n",
    "    with open('results/cdsmotedb_classdistribution.csv', 'w', newline='', encoding='utf-8') as csvfile:\n",
    "        filewriter = csv.writer(csvfile, delimiter=',')\n",
    "        for i, hist in enumerate(histo):\n",
    "            filewriter.writerow(hist)\n",
    "    ## Load as a panda\n",
    "    histo_panda = pd.DataFrame.from_records(histo[1:-1], columns=histo[0])\n",
    "    print(histo_panda)\n",
    "    print('Total samples: '+str(len(target_cdsmote)))\n",
    "    ## Create a histogram using seaborn\n",
    "    sns_plot = sns.barplot(x=\"Class\", y=\"Number of Samples\", data=histo_panda)\n",
    "    ## draw a line depicting the average\n",
    "    indexesUnique = list(set(target_cdsmote))\n",
    "    indexesUnique.sort()\n",
    "    newestclassdist_count = []\n",
    "    for newestclass in indexesUnique:\n",
    "         newestclassdist_count.append(target_over.count(newestclass))\n",
    "    average_new = sum(newestclassdist_count)/len(newestclassdist_count)\n",
    "    print('New average number of samples per class:', average_new)\n",
    "    plt.axhline(average, color='red')\n",
    "    plt.axhline(average_new, color='blue')\n",
    "    ## Save the image\n",
    "    sns_plot.figure.set_size_inches(10, 6)\n",
    "    sns_plot.figure.savefig('results/cdsmotedb_barchart'+'.jpg', orientation = 'landscape', dpi = 600)\n",
    "    print('\\nShowing class distribution bar chart...')\n",
    "    plt.show()\n",
    "\n",
    "else:\n",
    "    data_cdsmote = data.copy()\n",
    "    target_cdsmote = target_cd.copy()\n",
    "    print('Original minority class is close to average. No oversampling needed.')\n"
   ]
  },
  {
   "cell_type": "markdown",
   "metadata": {},
   "source": [
    "## Save the new dataset in a `.csv` file"
   ]
  },
  {
   "cell_type": "code",
   "execution_count": 8,
   "metadata": {},
   "outputs": [],
   "source": [
    "## Save the new dataset\n",
    "with open('results/cdsmotedb.csv', 'w', newline='') as csvfile:\n",
    "    filewriter = csv.writer(csvfile, delimiter=',')\n",
    "    for j, tar in enumerate(target_cdsmote):\n",
    "        row = data_cdsmote[j].copy()\n",
    "        row.append(target_cdsmote[j])\n",
    "        filewriter.writerow(row)"
   ]
  },
  {
   "cell_type": "markdown",
   "metadata": {},
   "source": [
    "## Classification"
   ]
  },
  {
   "cell_type": "code",
   "execution_count": null,
   "metadata": {},
   "outputs": [],
   "source": []
  }
 ],
 "metadata": {
  "kernelspec": {
   "display_name": "Python 3",
   "language": "python",
   "name": "python3"
  },
  "language_info": {
   "codemirror_mode": {
    "name": "ipython",
    "version": 3
   },
   "file_extension": ".py",
   "mimetype": "text/x-python",
   "name": "python",
   "nbconvert_exporter": "python",
   "pygments_lexer": "ipython3",
   "version": "3.7.3"
  },
  "varInspector": {
   "cols": {
    "lenName": 16,
    "lenType": 16,
    "lenVar": 40
   },
   "kernels_config": {
    "python": {
     "delete_cmd_postfix": "",
     "delete_cmd_prefix": "del ",
     "library": "var_list.py",
     "varRefreshCmd": "print(var_dic_list())"
    },
    "r": {
     "delete_cmd_postfix": ") ",
     "delete_cmd_prefix": "rm(",
     "library": "var_list.r",
     "varRefreshCmd": "cat(var_dic_list()) "
    }
   },
   "types_to_exclude": [
    "module",
    "function",
    "builtin_function_or_method",
    "instance",
    "_Feature"
   ],
   "window_display": false
  }
 },
 "nbformat": 4,
 "nbformat_minor": 2
}
