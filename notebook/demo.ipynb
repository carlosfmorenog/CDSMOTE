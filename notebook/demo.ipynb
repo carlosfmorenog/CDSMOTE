{
 "cells": [
  {
   "cell_type": "markdown",
   "metadata": {},
   "source": [
    "# CDSMOTE"
   ]
  },
  {
   "cell_type": "markdown",
   "metadata": {},
   "source": [
    "## Please reference the following paper:\n",
    "    \n",
    "Elyan E, Moreno-García CF, Jayne C. CDSMOTE: class decomposition and synthetic minority class oversampling technique for imbalanced-data classification. Neural Comput Appl. 2020. <a href=\"https://doi.org/10.1007/s00521-020-05130-z\">10.1007/s00521-020-05130-z</a>\n",
    "\n",
    "### Bibtex Citation\n",
    "@article{Elyan2020,\n",
    "author = {Elyan, Eyad and Moreno-Garcia, Carlos Francisco and Jayne, Chrisina},\n",
    "doi = {10.1007/s00521-020-05130-z},\n",
    "isbn = {0123456789},\n",
    "issn = {1433-3058},\n",
    "journal = {Neural Computing and Applications},\n",
    "keywords = {Class-imbalance,Classification,Imbalance Datasets,Machine,Machine learning,Oversampling,Un,Undersampling},\n",
    "publisher = {Springer London},\n",
    "title = {{CDSMOTE: class decomposition and synthetic minority class oversampling technique for imbalanced-data classification}},\n",
    "url = {https://doi.org/10.1007/s00521-020-05130-z},\n",
    "year = {2020}\n",
    "}\n",
    "\n"
   ]
  },
  {
   "cell_type": "markdown",
   "metadata": {},
   "source": [
    "## Importing the necessary modules"
   ]
  },
  {
   "cell_type": "code",
   "execution_count": 1,
   "metadata": {},
   "outputs": [],
   "source": [
    "import clustData\n",
    "import computeKVs\n",
    "import numpy as np\n",
    "import csv\n",
    "import math\n",
    "import sys\n",
    "import pandas as pd\n",
    "import seaborn as sns\n",
    "import matplotlib.pyplot as plt\n",
    "from imblearn.over_sampling import SMOTE\n",
    "from imblearn.over_sampling import ADASYN"
   ]
  },
  {
   "cell_type": "markdown",
   "metadata": {},
   "source": [
    "## Input parameters"
   ]
  },
  {
   "cell_type": "code",
   "execution_count": 3,
   "metadata": {},
   "outputs": [],
   "source": [
    "dataset = 5 # number of dataset from the repository presented in Cleofas-Sanchez et al. 2016\n",
    "classdecomp = 'Kmeans' # 'FCmeans', 'FCmeansOptimised' and 'DBSCAN' also available \n",
    "oversampler = 'SMOTE' #'ADASYN' also available\n",
    "threshold = 10 # if samples in positive class are apart from average by more than this value, apply oversampling (Sec 3.2 of the paper)\n",
    "n_clusters = 2 # used in options \"all\" and majority\n",
    "k_type = 'majority' # method used for the paper, although an alternative \"majorityImbalnceRatio\" is also available"
   ]
  },
  {
   "cell_type": "markdown",
   "metadata": {},
   "source": [
    "## Load Dataset"
   ]
  },
  {
   "cell_type": "code",
   "execution_count": 4,
   "metadata": {},
   "outputs": [],
   "source": [
    "## Load dataset\n",
    "with open('data//C'+str(dataset)+'.csv', 'r', newline='', encoding='utf-8') as f:\n",
    "    reader = csv.reader(f)\n",
    "    data = []\n",
    "    target = []\n",
    "    for row in reader:\n",
    "        data.append(list(map(float,row[0:len(row)-1])))\n",
    "        target.append(row[-1])\n",
    "del row, reader, f\n",
    "\n",
    "## Load dataset info from fileMatch.csv\n",
    "with open('data//fileMatch.csv', 'r', newline='', encoding='utf-8') as f:\n",
    "    reader = csv.reader(f)\n",
    "    fileMatch_All = []\n",
    "    for row in reader:\n",
    "        fileMatch_All.append((int(row[0]),row[1],int(row[2]),int(row[3]),float(row[4])))\n",
    "fileMatch = fileMatch_All[dataset-1]\n",
    "del row, f, fileMatch_All, reader\n",
    "    \n",
    "## Find majority and minority classes\n",
    "majority_class = max(set(target), key=target.count)\n",
    "minority_class = min(set(target), key=target.count)"
   ]
  },
  {
   "cell_type": "markdown",
   "metadata": {},
   "source": [
    "## Plotting the original dataset"
   ]
  },
  {
   "cell_type": "code",
   "execution_count": 6,
   "metadata": {},
   "outputs": [
    {
     "name": "stdout",
     "output_type": "stream",
     "text": [
      "Dataset: C5\n",
      "      Class  Number of Samples\n",
      "0  negative                634\n",
      "1  positive                212\n",
      "Total samples: 846\n",
      "\n",
      "Showing class distribution bar chart...\n"
     ]
    },
    {
     "data": {
      "image/png": "[encoded data removed]",
      "text/plain": [
       "<Figure size 720x432 with 1 Axes>"
      ]
     },
     "metadata": {
      "needs_background": "light"
     },
     "output_type": "display_data"
    }
   ],
   "source": [
    "%matplotlib inline\n",
    "print('Dataset: C'+str(dataset))\n",
    "histo = [['Class','Number of Samples']]\n",
    "for i, label1 in enumerate(sorted(list(set(target)))):\n",
    "    cont = 0\n",
    "    for j, label2 in enumerate(target):\n",
    "        if label1 == label2:\n",
    "            cont+=1\n",
    "    histo.append([label1,cont])\n",
    "histo.append(['Total Samples', len(target)])\n",
    "## Save the histogram as a .csv file   \n",
    "with open('originaldb_classdistribution.csv', 'w', newline='', encoding='utf-8') as csvfile:\n",
    "    filewriter = csv.writer(csvfile, delimiter=',')\n",
    "    for i, hist in enumerate(histo):\n",
    "        filewriter.writerow(hist)\n",
    "## Load as a panda\n",
    "histo_panda = pd.DataFrame.from_records(histo[1:-1], columns=histo[0])\n",
    "print(histo_panda)\n",
    "print('Total samples: '+str(len(target)))\n",
    "## Create a histogram using seaborn\n",
    "sns_plot = sns.barplot(y=\"Class\", x=\"Number of Samples\", data=histo_panda)\n",
    "## Save the image\n",
    "sns_plot.figure.set_size_inches(10, 6)\n",
    "sns_plot.figure.savefig('originaldb_barchart'+'.jpg', orientation = 'landscape', dpi = 600)\n",
    "print('\\nShowing class distribution bar chart...')\n",
    "plt.show()"
   ]
  },
  {
   "cell_type": "markdown",
   "metadata": {},
   "source": [
    "## Applying class decomposition"
   ]
  },
  {
   "cell_type": "code",
   "execution_count": 8,
   "metadata": {},
   "outputs": [
    {
     "name": "stdout",
     "output_type": "stream",
     "text": [
      "\n",
      "Class decomposition by applying k-means...\n",
      "Number of clusters for class negative: 2\n",
      "No clustering performed for class positive.\n",
      "         Class  Number of Samples\n",
      "0  negative_c0                164\n",
      "1  negative_c1                470\n",
      "2  positive_c0                212\n",
      "Total samples: 846\n",
      "Average number of samples per class: 282.0\n",
      "\n",
      "Showing class distribution bar chart...\n"
     ]
    },
    {
     "data": {
      "image/png": "[encoded data removed]",
      "text/plain": [
       "<Figure size 720x432 with 1 Axes>"
      ]
     },
     "metadata": {
      "needs_background": "light"
     },
     "output_type": "display_data"
    }
   ],
   "source": [
    "## Calculate k vector (for class decomposition)\n",
    "\n",
    "if k_type.lower() == 'majority':\n",
    "    k = computeKVs.majority(data, target, n_clusters)\n",
    "elif k_type.lower() == 'majorityimbalanceratio':\n",
    "    n_clusters = math.ceil(fileMatch[4])\n",
    "    k = computeKVs.majority(data, target, n_clusters)\n",
    "else:\n",
    "    print('Invalid k values option for kmeansSMOTE')\n",
    "    sys.exit()\n",
    "\n",
    "## Cluster the data\n",
    "if classdecomp.lower()=='kmeans':\n",
    "    target_cd = clustData.Kmeans(data, target, k)\n",
    "elif classdecomp.lower()=='fcmeans':\n",
    "    target_cd = clustData.FCmeans(data, target, k)\n",
    "elif classdecomp.lower()=='fcmeansoptimised':\n",
    "     target_cd = clustData.FCmeansOptimised(data, target, k, max_nclusters = 10)   \n",
    "elif classdecomp.lower()=='dbscan':        \n",
    "     target_cd = clustData.DBSCAN(data, target, k, eps=0.5, min_samples=5)\n",
    "else:\n",
    "    print('Invalid class decomposition algorithm.')\n",
    "    sys.exit()\n",
    "# Plot distribution after cd\n",
    "histo = [['Class','Number of Samples']]\n",
    "for i, label1 in enumerate(sorted(list(set(target_cd)))):\n",
    "    cont = 0\n",
    "    for j, label2 in enumerate(target_cd):\n",
    "        if label1 == label2:\n",
    "            cont+=1\n",
    "    histo.append([label1,cont])\n",
    "histo.append(['Total Samples', len(target_cd)])\n",
    "## Save the histogram as a .csv file   \n",
    "with open('decomposeddb_classdistribution.csv', 'w', newline='', encoding='utf-8') as csvfile:\n",
    "    filewriter = csv.writer(csvfile, delimiter=',')\n",
    "    for i, hist in enumerate(histo):\n",
    "        filewriter.writerow(hist)\n",
    "## Load as a panda\n",
    "histo_panda = pd.DataFrame.from_records(histo[1:-1], columns=histo[0])\n",
    "print(histo_panda)\n",
    "print('Total samples: '+str(len(target_cd)))\n",
    "## Create a histogram using seaborn\n",
    "sns_plot = sns.barplot(y=\"Class\", x=\"Number of Samples\", data=histo_panda)\n",
    "## draw a line depicting the average\n",
    "indexesUnique = list(set(target_cd))\n",
    "indexesUnique.sort()\n",
    "newclassdist_count = []\n",
    "for newclass in indexesUnique:\n",
    "     newclassdist_count.append(target_cd.count(newclass))\n",
    "average = sum(newclassdist_count)/len(newclassdist_count)\n",
    "print('Average number of samples per class:', average)\n",
    "plt.axvline(average, color='red')\n",
    "## Save the image\n",
    "sns_plot.figure.set_size_inches(10, 6)\n",
    "sns_plot.figure.savefig('decomposeddb_barchart'+'.jpg', orientation = 'landscape', dpi = 600)\n",
    "print('\\nShowing class distribution bar chart...')\n",
    "plt.show()"
   ]
  },
  {
   "cell_type": "markdown",
   "metadata": {},
   "source": [
    "## Applying oversampling to the minority class w.r.t. the sub-class of the majority class closest to the average (red line). If the minority class is closer to the average than the `threshold`, then this step is skipped."
   ]
  },
  {
   "cell_type": "code",
   "execution_count": 9,
   "metadata": {},
   "outputs": [
    {
     "name": "stdout",
     "output_type": "stream",
     "text": [
      "Oversampling original minority class...\n",
      "         Class  Number of Samples\n",
      "0  negative_c0                164\n",
      "1  negative_c1                470\n",
      "2  positive_c0                470\n",
      "Total samples: 1104\n",
      "New average number of samples per class: 313.3333333333333\n",
      "\n",
      "Showing class distribution bar chart...\n"
     ]
    },
    {
     "data": {
      "image/png": "[encoded data removed]",
      "text/plain": [
       "<Figure size 720x432 with 1 Axes>"
      ]
     },
     "metadata": {
      "needs_background": "light"
     },
     "output_type": "display_data"
    }
   ],
   "source": [
    "## 1. see if the positive is far from the average (larger than the threshold)\n",
    "if abs(average-newclassdist_count[-1])>threshold:\n",
    "    print('Oversampling original minority class...')\n",
    "    ## 2. calculate new majority class for smote (closest to the average)\n",
    "    c = np.inf\n",
    "    newmaj = 0\n",
    "    for i,j in enumerate(newclassdist_count[0:-1]):\n",
    "        if abs(j-average)<c:\n",
    "            c = abs(i-average)\n",
    "            newmaj = i\n",
    "    majority_class_new = majority_class+'_c'+str(newmaj)\n",
    "    minority_class_new = minority_class+'_c0'\n",
    "    ## 3. Create the dataset that only contains the new majority and minority classes\n",
    "    data_majmin = []\n",
    "    target_majmin = []\n",
    "    for m, label in enumerate(target_cd):\n",
    "        if label == majority_class_new or label == minority_class_new:\n",
    "            data_majmin.append(data[m])\n",
    "            target_majmin.append(label)\n",
    "    if oversampler.lower() == 'smote':\n",
    "        sm = SMOTE()\n",
    "        data_over, target_over = sm.fit_resample(data_majmin, target_majmin) \n",
    "    elif oversampler.lower() == 'adasyn':\n",
    "        ada = ADASYN()\n",
    "        data_over, target_over = ada.fit_resample(data_majmin, target_majmin)\n",
    "    else:\n",
    "        print('Invalid oversampling algorithm.')\n",
    "        sys.exit() \n",
    "    ## 4. combine this with the remaning classes\n",
    "    data_cdsmote = data_over.copy()\n",
    "    target_cdsmote = target_over.copy()\n",
    "    for m, label in enumerate(target_cd):\n",
    "        if label != minority_class_new and label != majority_class_new:\n",
    "            data_cdsmote.append(data[m])\n",
    "            target_cdsmote.append(label)\n",
    "    \n",
    "    \n",
    "    ## Plot distribution after smote\n",
    "    histo = [['Class','Number of Samples']]\n",
    "    for i, label1 in enumerate(sorted(list(set(target_cdsmote)))):\n",
    "        cont = 0\n",
    "        for j, label2 in enumerate(target_cdsmote):\n",
    "            if label1 == label2:\n",
    "                cont+=1\n",
    "        histo.append([label1,cont])\n",
    "    histo.append(['Total Samples', len(target_cdsmote)])\n",
    "    ## Save the histogram as a .csv file   \n",
    "    with open('overdb_classdistribution.csv', 'w', newline='', encoding='utf-8') as csvfile:\n",
    "        filewriter = csv.writer(csvfile, delimiter=',')\n",
    "        for i, hist in enumerate(histo):\n",
    "            filewriter.writerow(hist)\n",
    "    ## Load as a panda\n",
    "    histo_panda = pd.DataFrame.from_records(histo[1:-1], columns=histo[0])\n",
    "    print(histo_panda)\n",
    "    print('Total samples: '+str(len(target_cdsmote)))\n",
    "    ## Create a histogram using seaborn\n",
    "    sns_plot = sns.barplot(y=\"Class\", x=\"Number of Samples\", data=histo_panda)\n",
    "    ## draw a line depicting the average\n",
    "    indexesUnique = list(set(target_cdsmote))\n",
    "    indexesUnique.sort()\n",
    "    newestclassdist_count = []\n",
    "    for newestclass in indexesUnique:\n",
    "         newestclassdist_count.append(target_over.count(newestclass))\n",
    "    average_new = sum(newestclassdist_count)/len(newestclassdist_count)\n",
    "    print('New average number of samples per class:', average_new)\n",
    "    plt.axvline(average, color='red')\n",
    "    plt.axvline(average_new, color='blue')\n",
    "    ## Save the image\n",
    "    sns_plot.figure.set_size_inches(10, 6)\n",
    "    sns_plot.figure.savefig('overdb_barchart'+'.jpg', orientation = 'landscape', dpi = 600)\n",
    "    print('\\nShowing class distribution bar chart...')\n",
    "    plt.show()\n",
    "\n",
    "else:\n",
    "    print('Original minority class is close to average. No oversampling needed.')\n"
   ]
  },
  {
   "cell_type": "markdown",
   "metadata": {},
   "source": [
    "## Save the new dataset in a `.csv` file"
   ]
  },
  {
   "cell_type": "code",
   "execution_count": 10,
   "metadata": {},
   "outputs": [],
   "source": [
    "## Save the new dataset\n",
    "with open('C'+str(dataset)+'_'+classdecomp+'_'+oversampler+'_ktype='+k_type+'_'+'nclusters='+str(n_clusters)+'.csv', 'w', newline='') as csvfile:\n",
    "    filewriter = csv.writer(csvfile, delimiter=',')\n",
    "    for j, tar in enumerate(target_cdsmote):\n",
    "        row = data_cdsmote[j].copy()\n",
    "        row.append(target_cdsmote[j])\n",
    "        filewriter.writerow(row)"
   ]
  }
 ],
 "metadata": {
  "kernelspec": {
   "display_name": "Python 3",
   "language": "python",
   "name": "python3"
  },
  "language_info": {
   "codemirror_mode": {
    "name": "ipython",
    "version": 3
   },
   "file_extension": ".py",
   "mimetype": "text/x-python",
   "name": "python",
   "nbconvert_exporter": "python",
   "pygments_lexer": "ipython3",
   "version": "3.7.3"
  },
  "varInspector": {
   "cols": {
    "lenName": 16,
    "lenType": 16,
    "lenVar": 40
   },
   "kernels_config": {
    "python": {
     "delete_cmd_postfix": "",
     "delete_cmd_prefix": "del ",
     "library": "var_list.py",
     "varRefreshCmd": "print(var_dic_list())"
    },
    "r": {
     "delete_cmd_postfix": ") ",
     "delete_cmd_prefix": "rm(",
     "library": "var_list.r",
     "varRefreshCmd": "cat(var_dic_list()) "
    }
   },
   "types_to_exclude": [
    "module",
    "function",
    "builtin_function_or_method",
    "instance",
    "_Feature"
   ],
   "window_display": false
  }
 },
 "nbformat": 4,
 "nbformat_minor": 2
}
